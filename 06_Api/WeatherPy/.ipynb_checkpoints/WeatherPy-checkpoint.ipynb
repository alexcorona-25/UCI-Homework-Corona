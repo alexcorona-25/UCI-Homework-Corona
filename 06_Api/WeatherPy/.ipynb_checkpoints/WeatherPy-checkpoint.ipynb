{
 "cells": [
  {
   "cell_type": "markdown",
   "metadata": {},
   "source": [
    "# WeatherPy\n",
    "----\n",
    "\n",
    "#### Note\n",
    "* Instructions have been included for each segment. You do not have to follow them exactly, but they are included to help you think through the steps."
   ]
  },
  {
   "cell_type": "markdown",
   "metadata": {},
   "source": [
    "* Cloudiness throughtout all of the hemispheres is spread out equally at an lattitude point"
   ]
  },
  {
   "cell_type": "markdown",
   "metadata": {},
   "source": [
    "* Max Temperature in the world decreases as you move pass 0 lattidute"
   ]
  },
  {
   "cell_type": "markdown",
   "metadata": {},
   "source": [
    "* Souther hemisphere temp increases as you move pass 0 lattitude as Nothern hemisphere decreases"
   ]
  },
  {
   "cell_type": "code",
   "execution_count": 1,
   "metadata": {
    "scrolled": true
   },
   "outputs": [],
   "source": [
    "# Dependencies and Setup\n",
    "import matplotlib.pyplot as plt\n",
    "import pandas as pd\n",
    "import numpy as np\n",
    "import requests\n",
    "import time\n",
    "import json\n",
    "import scipy.stats as st\n",
    "from scipy.stats import linregress\n"
   ]
  },
  {
   "cell_type": "code",
   "execution_count": 2,
   "metadata": {},
   "outputs": [],
   "source": [
    "# Import API key\n",
    "from api_keys import weather_api_key\n",
    "\n",
    "# Incorporated citipy to determine city based on latitude and longitude#\n",
    "from citipy import citipy\n",
    "\n",
    "# Output File (CSV)\n",
    "output_data_file = \"../output_data/cities.csv\"\n",
    "\n",
    "# Range of latitudes and longitudes\n",
    "lat_range = (-90, 90)\n",
    "lng_range = (-180, 180)"
   ]
  },
  {
   "cell_type": "markdown",
   "metadata": {},
   "source": [
    "## Generate Cities List"
   ]
  },
  {
   "cell_type": "code",
   "execution_count": 3,
   "metadata": {},
   "outputs": [
    {
     "data": {
      "text/plain": [
       "598"
      ]
     },
     "execution_count": 3,
     "metadata": {},
     "output_type": "execute_result"
    }
   ],
   "source": [
    "\n",
    "# List for holding lat_lngs and cities\n",
    "lat_lngs = []\n",
    "cities = []\n",
    "\n",
    "# Create a set of random lat and lng combinations\n",
    "lats = np.random.uniform(low=-90.000, high=90.000, size=1500)\n",
    "lngs = np.random.uniform(low=-180.000, high=180.000, size=1500)\n",
    "lat_lngs = zip(lats, lngs)\n",
    "\n",
    "# Identify nearest city for each lat, lng combination\n",
    "for lat_lng in lat_lngs:\n",
    "    city = citipy.nearest_city(lat_lng[0], lat_lng[1]).city_name\n",
    "    \n",
    "    # If the city is unique, then add it to a our cities list\n",
    "    if city not in cities:\n",
    "        cities.append(city)\n",
    "\n",
    "# Print the city count to confirm sufficient count\n",
    "len(cities)"
   ]
  },
  {
   "cell_type": "code",
   "execution_count": 4,
   "metadata": {},
   "outputs": [],
   "source": [
    "city_name_list = []\n",
    "cloudiness_list = []\n",
    "country_list = []\n",
    "date_list = []\n",
    "humidity_list = []\n",
    "lat_list = []\n",
    "lng_list = []\n",
    "max_temp_list = []\n",
    "wind_speed_list = []\n",
    "index_counter = 0\n",
    "set_counter = 1"
   ]
  },
  {
   "cell_type": "markdown",
   "metadata": {},
   "source": [
    "### Perform API Calls\n",
    "* Perform a weather check on each city using a series of successive API calls.\n",
    "* Include a print log of each city as it'sbeing processed (with the city number and city name).\n"
   ]
  },
  {
   "cell_type": "code",
   "execution_count": 5,
   "metadata": {
    "scrolled": true
   },
   "outputs": [
    {
     "name": "stdout",
     "output_type": "stream",
     "text": [
      "Beginning Data Retrieval \n",
      "-----------------------------\n",
      "Processing Record 1 of Set 1 : busselton\n",
      "Processing Record 2 of Set 1 : upernavik\n",
      "Processing Record 3 of Set 1 : plumlov\n",
      "Processing Record 4 of Set 1 : mataura\n",
      "Processing Record 5 of Set 1 : kruisfontein\n",
      "City not found. Skipping...\n",
      "Processing Record 6 of Set 1 : barrow\n",
      "Processing Record 7 of Set 1 : yellowknife\n",
      "Processing Record 8 of Set 1 : hilo\n",
      "Processing Record 9 of Set 1 : manokwari\n",
      "Processing Record 10 of Set 1 : mokobeng\n",
      "Processing Record 11 of Set 1 : bereda\n",
      "Processing Record 12 of Set 1 : cherskiy\n",
      "Processing Record 13 of Set 1 : avarua\n",
      "Processing Record 14 of Set 1 : tiksi\n",
      "Processing Record 15 of Set 1 : najran\n",
      "Processing Record 16 of Set 1 : ushtobe\n",
      "Processing Record 17 of Set 1 : rikitea\n",
      "Processing Record 18 of Set 1 : valladolid\n",
      "Processing Record 19 of Set 1 : ushuaia\n",
      "City not found. Skipping...\n",
      "Processing Record 20 of Set 1 : atuona\n",
      "Processing Record 21 of Set 1 : sao joao da barra\n",
      "City not found. Skipping...\n",
      "Processing Record 22 of Set 1 : emerald\n",
      "Processing Record 23 of Set 1 : hobart\n",
      "Processing Record 24 of Set 1 : lebu\n",
      "Processing Record 25 of Set 1 : punta arenas\n",
      "Processing Record 26 of Set 1 : hithadhoo\n",
      "City not found. Skipping...\n",
      "Processing Record 27 of Set 1 : lorengau\n",
      "Processing Record 28 of Set 1 : kloulklubed\n",
      "Processing Record 29 of Set 1 : jalu\n",
      "Processing Record 30 of Set 1 : cape town\n",
      "Processing Record 31 of Set 1 : manaus\n",
      "City not found. Skipping...\n",
      "Processing Record 32 of Set 1 : chipinge\n",
      "Processing Record 33 of Set 1 : puerto ayora\n",
      "Processing Record 34 of Set 1 : waipawa\n",
      "Processing Record 35 of Set 1 : rio gallegos\n",
      "Processing Record 36 of Set 1 : bluff\n",
      "Processing Record 37 of Set 1 : airai\n",
      "Processing Record 38 of Set 1 : brazzaville\n",
      "Processing Record 39 of Set 1 : cabedelo\n",
      "Processing Record 40 of Set 1 : nelson bay\n",
      "Processing Record 41 of Set 1 : severo-kurilsk\n",
      "Processing Record 42 of Set 1 : luderitz\n",
      "Processing Record 43 of Set 1 : puri\n",
      "Processing Record 44 of Set 1 : alto araguaia\n",
      "City not found. Skipping...\n",
      "Processing Record 45 of Set 1 : ancud\n",
      "City not found. Skipping...\n",
      "Processing Record 46 of Set 1 : the valley\n",
      "Processing Record 47 of Set 1 : qaanaaq\n",
      "Processing Record 48 of Set 1 : mount gambier\n",
      "Processing Record 49 of Set 1 : samarai\n",
      "Processing Record 50 of Set 1 : tuatapere\n",
      "Processing Record 0 of Set 2 : saint-philippe\n",
      "Processing Record 1 of Set 2 : vaini\n",
      "Processing Record 2 of Set 2 : shitanjing\n",
      "Processing Record 3 of Set 2 : port alfred\n",
      "Processing Record 4 of Set 2 : castro\n",
      "Processing Record 5 of Set 2 : east london\n",
      "Processing Record 6 of Set 2 : kapaa\n",
      "Processing Record 7 of Set 2 : marsa matruh\n",
      "Processing Record 8 of Set 2 : calama\n",
      "Processing Record 9 of Set 2 : kavieng\n",
      "Processing Record 10 of Set 2 : le port\n",
      "Processing Record 11 of Set 2 : chaoyang\n",
      "Processing Record 12 of Set 2 : quartz hill\n",
      "Processing Record 13 of Set 2 : atambua\n",
      "Processing Record 14 of Set 2 : arraial do cabo\n",
      "City not found. Skipping...\n",
      "Processing Record 15 of Set 2 : coquimbo\n",
      "Processing Record 16 of Set 2 : carutapera\n",
      "Processing Record 17 of Set 2 : port keats\n",
      "Processing Record 18 of Set 2 : buraydah\n",
      "Processing Record 19 of Set 2 : camacha\n",
      "Processing Record 20 of Set 2 : huixtla\n",
      "Processing Record 21 of Set 2 : jiangyou\n",
      "Processing Record 22 of Set 2 : mehamn\n",
      "Processing Record 23 of Set 2 : amlame\n",
      "Processing Record 24 of Set 2 : ashcroft\n",
      "Processing Record 25 of Set 2 : bambanglipuro\n",
      "Processing Record 26 of Set 2 : nikolskoye\n",
      "Processing Record 27 of Set 2 : saint george\n",
      "Processing Record 28 of Set 2 : san-pedro\n",
      "City not found. Skipping...\n",
      "Processing Record 29 of Set 2 : ribeira grande\n",
      "Processing Record 30 of Set 2 : kodiak\n",
      "Processing Record 31 of Set 2 : port blair\n",
      "Processing Record 32 of Set 2 : nurota\n",
      "Processing Record 33 of Set 2 : provideniya\n",
      "Processing Record 34 of Set 2 : hovd\n",
      "Processing Record 35 of Set 2 : firozpur\n",
      "Processing Record 36 of Set 2 : ostrovnoy\n",
      "Processing Record 37 of Set 2 : portland\n",
      "Processing Record 38 of Set 2 : norman wells\n",
      "City not found. Skipping...\n",
      "Processing Record 39 of Set 2 : rocha\n",
      "Processing Record 40 of Set 2 : tasiilaq\n",
      "Processing Record 41 of Set 2 : riyadh\n",
      "Processing Record 42 of Set 2 : araouane\n",
      "Processing Record 43 of Set 2 : thompson\n",
      "City not found. Skipping...\n",
      "Processing Record 44 of Set 2 : hendek\n",
      "Processing Record 45 of Set 2 : savelugu\n",
      "Processing Record 46 of Set 2 : vigrestad\n",
      "Processing Record 47 of Set 2 : zyryanka\n",
      "Processing Record 48 of Set 2 : tura\n",
      "Processing Record 49 of Set 2 : torbay\n",
      "City not found. Skipping...\n",
      "City not found. Skipping...\n",
      "Processing Record 50 of Set 2 : carnarvon\n",
      "City not found. Skipping...\n",
      "Processing Record 0 of Set 3 : hun\n",
      "Processing Record 1 of Set 3 : fayetteville\n",
      "Processing Record 2 of Set 3 : te anau\n",
      "Processing Record 3 of Set 3 : jamestown\n",
      "Processing Record 4 of Set 3 : victoria\n",
      "Processing Record 5 of Set 3 : rosetta\n",
      "Processing Record 6 of Set 3 : lexington\n",
      "Processing Record 7 of Set 3 : taltal\n",
      "Processing Record 8 of Set 3 : hualmay\n",
      "Processing Record 9 of Set 3 : chuy\n",
      "City not found. Skipping...\n",
      "Processing Record 10 of Set 3 : hermanus\n",
      "Processing Record 11 of Set 3 : bredasdorp\n",
      "Processing Record 12 of Set 3 : kaohsiung\n",
      "Processing Record 13 of Set 3 : tanout\n",
      "Processing Record 14 of Set 3 : udachnyy\n",
      "Processing Record 15 of Set 3 : birnin kebbi\n",
      "Processing Record 16 of Set 3 : faanui\n",
      "Processing Record 17 of Set 3 : new norfolk\n",
      "Processing Record 18 of Set 3 : olafsvik\n",
      "Processing Record 19 of Set 3 : bethel\n",
      "Processing Record 20 of Set 3 : tuktoyaktuk\n",
      "Processing Record 21 of Set 3 : half moon bay\n",
      "Processing Record 22 of Set 3 : novyy yegorlyk\n",
      "Processing Record 23 of Set 3 : uyuni\n",
      "Processing Record 24 of Set 3 : petukhovo\n",
      "Processing Record 25 of Set 3 : atar\n",
      "Processing Record 26 of Set 3 : cristalina\n",
      "Processing Record 27 of Set 3 : dauphin\n",
      "Processing Record 28 of Set 3 : kudahuvadhoo\n",
      "Processing Record 29 of Set 3 : seymchan\n",
      "Processing Record 30 of Set 3 : diapaga\n",
      "Processing Record 31 of Set 3 : saint-andre-avellin\n",
      "Processing Record 32 of Set 3 : bulgan\n",
      "Processing Record 33 of Set 3 : pisco\n",
      "Processing Record 34 of Set 3 : gornopravdinsk\n",
      "Processing Record 35 of Set 3 : salalah\n",
      "Processing Record 36 of Set 3 : albany\n",
      "Processing Record 37 of Set 3 : cabo san lucas\n",
      "City not found. Skipping...\n",
      "Processing Record 38 of Set 3 : georgetown\n",
      "Processing Record 39 of Set 3 : dikson\n",
      "City not found. Skipping...\n",
      "Processing Record 40 of Set 3 : eureka\n",
      "Processing Record 41 of Set 3 : bathsheba\n",
      "Processing Record 42 of Set 3 : coos bay\n",
      "Processing Record 43 of Set 3 : esperance\n",
      "Processing Record 44 of Set 3 : hambantota\n",
      "Processing Record 45 of Set 3 : ponta do sol\n",
      "Processing Record 46 of Set 3 : pevek\n",
      "Processing Record 47 of Set 3 : tongliao\n",
      "Processing Record 48 of Set 3 : jijiga\n",
      "Processing Record 49 of Set 3 : fortuna\n",
      "Processing Record 50 of Set 3 : camana\n",
      "Processing Record 0 of Set 4 : san quintin\n",
      "Processing Record 1 of Set 4 : lagoa\n",
      "Processing Record 2 of Set 4 : aksu\n",
      "Processing Record 3 of Set 4 : tecoanapa\n",
      "Processing Record 4 of Set 4 : los cedrales\n",
      "Processing Record 5 of Set 4 : port elizabeth\n",
      "Processing Record 6 of Set 4 : akdepe\n",
      "Processing Record 7 of Set 4 : butaritari\n",
      "City not found. Skipping...\n",
      "Processing Record 8 of Set 4 : eenhana\n",
      "City not found. Skipping...\n",
      "Processing Record 9 of Set 4 : longyearbyen\n",
      "City not found. Skipping...\n",
      "Processing Record 10 of Set 4 : lompoc\n",
      "Processing Record 11 of Set 4 : neuquen\n",
      "Processing Record 12 of Set 4 : prince rupert\n",
      "Processing Record 13 of Set 4 : manacapuru\n",
      "Processing Record 14 of Set 4 : zhigalovo\n",
      "City not found. Skipping...\n",
      "Processing Record 15 of Set 4 : pacific grove\n",
      "Processing Record 16 of Set 4 : kavaratti\n",
      "Processing Record 17 of Set 4 : klaksvik\n",
      "City not found. Skipping...\n",
      "Processing Record 18 of Set 4 : requena\n",
      "Processing Record 19 of Set 4 : xuddur\n",
      "Processing Record 20 of Set 4 : laguna\n",
      "Processing Record 21 of Set 4 : mantua\n",
      "Processing Record 22 of Set 4 : cidreira\n",
      "Processing Record 23 of Set 4 : podporozhye\n",
      "Processing Record 24 of Set 4 : lakatoro\n",
      "City not found. Skipping...\n",
      "Processing Record 25 of Set 4 : sao filipe\n",
      "Processing Record 26 of Set 4 : narsaq\n",
      "Processing Record 27 of Set 4 : san patricio\n",
      "City not found. Skipping...\n",
      "Processing Record 28 of Set 4 : winnemucca\n",
      "Processing Record 29 of Set 4 : kieta\n"
     ]
    },
    {
     "name": "stdout",
     "output_type": "stream",
     "text": [
      "Processing Record 30 of Set 4 : shimoda\n",
      "Processing Record 31 of Set 4 : oneonta\n",
      "Processing Record 32 of Set 4 : alofi\n",
      "Processing Record 33 of Set 4 : luwuk\n",
      "Processing Record 34 of Set 4 : grand gaube\n",
      "Processing Record 35 of Set 4 : magadan\n",
      "Processing Record 36 of Set 4 : mount isa\n",
      "Processing Record 37 of Set 4 : kailua\n",
      "City not found. Skipping...\n",
      "Processing Record 38 of Set 4 : haverfordwest\n",
      "Processing Record 39 of Set 4 : verkhnyaya inta\n",
      "Processing Record 40 of Set 4 : dingle\n",
      "Processing Record 41 of Set 4 : mahebourg\n",
      "Processing Record 42 of Set 4 : bambous virieux\n",
      "Processing Record 43 of Set 4 : clyde river\n",
      "Processing Record 44 of Set 4 : mitsamiouli\n",
      "Processing Record 45 of Set 4 : chokurdakh\n",
      "Processing Record 46 of Set 4 : la peca\n",
      "Processing Record 47 of Set 4 : souillac\n",
      "Processing Record 48 of Set 4 : andilamena\n",
      "Processing Record 49 of Set 4 : hofn\n",
      "Processing Record 50 of Set 4 : broome\n",
      "Processing Record 0 of Set 5 : erenhot\n",
      "Processing Record 1 of Set 5 : margate\n",
      "Processing Record 2 of Set 5 : twin falls\n",
      "Processing Record 3 of Set 5 : ketchikan\n",
      "Processing Record 4 of Set 5 : xifeng\n",
      "Processing Record 5 of Set 5 : leningradskiy\n",
      "Processing Record 6 of Set 5 : karratha\n",
      "Processing Record 7 of Set 5 : celestun\n",
      "City not found. Skipping...\n",
      "Processing Record 8 of Set 5 : senges\n",
      "Processing Record 9 of Set 5 : egvekinot\n",
      "Processing Record 10 of Set 5 : fairbanks\n",
      "Processing Record 11 of Set 5 : melioratorov\n",
      "Processing Record 12 of Set 5 : yaan\n",
      "Processing Record 13 of Set 5 : garwa\n",
      "Processing Record 14 of Set 5 : vitim\n",
      "Processing Record 15 of Set 5 : altay\n",
      "City not found. Skipping...\n",
      "Processing Record 16 of Set 5 : reyes\n",
      "Processing Record 17 of Set 5 : chumikan\n",
      "Processing Record 18 of Set 5 : auki\n",
      "Processing Record 19 of Set 5 : caravelas\n",
      "Processing Record 20 of Set 5 : khatanga\n",
      "Processing Record 21 of Set 5 : constitucion\n",
      "Processing Record 22 of Set 5 : kiama\n",
      "City not found. Skipping...\n",
      "Processing Record 23 of Set 5 : yeppoon\n",
      "Processing Record 24 of Set 5 : cap malheureux\n",
      "Processing Record 25 of Set 5 : geraldton\n",
      "Processing Record 26 of Set 5 : tambaram\n",
      "City not found. Skipping...\n",
      "Processing Record 27 of Set 5 : tabuk\n",
      "Processing Record 28 of Set 5 : tocopilla\n",
      "Processing Record 29 of Set 5 : kaitangata\n",
      "Processing Record 30 of Set 5 : fort nelson\n",
      "City not found. Skipping...\n",
      "Processing Record 31 of Set 5 : richards bay\n",
      "Processing Record 32 of Set 5 : kedrovyy\n",
      "Processing Record 33 of Set 5 : mpika\n",
      "Processing Record 34 of Set 5 : bobrovka\n",
      "Processing Record 35 of Set 5 : saldanha\n",
      "Processing Record 36 of Set 5 : broken hill\n",
      "Processing Record 37 of Set 5 : brigantine\n",
      "Processing Record 38 of Set 5 : saskylakh\n",
      "Processing Record 39 of Set 5 : rosarito\n",
      "Processing Record 40 of Set 5 : bar bigha\n",
      "Processing Record 41 of Set 5 : srednekolymsk\n",
      "Processing Record 42 of Set 5 : ilulissat\n",
      "Processing Record 43 of Set 5 : havre-saint-pierre\n",
      "City not found. Skipping...\n",
      "Processing Record 44 of Set 5 : nola\n",
      "Processing Record 45 of Set 5 : uray\n",
      "Processing Record 46 of Set 5 : palana\n",
      "Processing Record 47 of Set 5 : ciudad bolivar\n",
      "Processing Record 48 of Set 5 : shelburne\n",
      "Processing Record 49 of Set 5 : biak\n",
      "Processing Record 50 of Set 5 : moba\n",
      "Processing Record 0 of Set 6 : mozarlandia\n",
      "Processing Record 1 of Set 6 : delvada\n",
      "Processing Record 2 of Set 6 : hami\n",
      "Processing Record 3 of Set 6 : itoman\n",
      "Processing Record 4 of Set 6 : chute-aux-outardes\n",
      "Processing Record 5 of Set 6 : iqaluit\n",
      "Processing Record 6 of Set 6 : yulara\n",
      "Processing Record 7 of Set 6 : mananara\n",
      "City not found. Skipping...\n",
      "Processing Record 8 of Set 6 : isetskoye\n",
      "Processing Record 9 of Set 6 : saurimo\n",
      "Processing Record 10 of Set 6 : quatre cocos\n",
      "Processing Record 11 of Set 6 : powell river\n",
      "Processing Record 12 of Set 6 : sibolga\n",
      "Processing Record 13 of Set 6 : port lincoln\n",
      "Processing Record 14 of Set 6 : nuuk\n",
      "Processing Record 15 of Set 6 : buala\n",
      "Processing Record 16 of Set 6 : bubaque\n",
      "City not found. Skipping...\n",
      "Processing Record 17 of Set 6 : los llanos de aridane\n",
      "Processing Record 18 of Set 6 : alexandria\n",
      "Processing Record 19 of Set 6 : kysyl-syr\n",
      "Processing Record 20 of Set 6 : sorland\n",
      "City not found. Skipping...\n",
      "Processing Record 21 of Set 6 : ishigaki\n",
      "Processing Record 22 of Set 6 : areka\n",
      "Processing Record 23 of Set 6 : wainwright\n",
      "Processing Record 24 of Set 6 : bataipora\n",
      "Processing Record 25 of Set 6 : gat\n",
      "Processing Record 26 of Set 6 : asosa\n",
      "Processing Record 27 of Set 6 : angoche\n",
      "Processing Record 28 of Set 6 : sazonovo\n",
      "Processing Record 29 of Set 6 : octeville\n",
      "City not found. Skipping...\n",
      "Processing Record 30 of Set 6 : mar del plata\n",
      "Processing Record 31 of Set 6 : dedza\n",
      "Processing Record 32 of Set 6 : dragor\n",
      "Processing Record 33 of Set 6 : khasan\n",
      "Processing Record 34 of Set 6 : nokaneng\n",
      "Processing Record 35 of Set 6 : adrar\n",
      "City not found. Skipping...\n",
      "Processing Record 36 of Set 6 : weyburn\n",
      "Processing Record 37 of Set 6 : lima\n",
      "Processing Record 38 of Set 6 : mezen\n",
      "Processing Record 39 of Set 6 : colares\n",
      "Processing Record 40 of Set 6 : zalantun\n",
      "Processing Record 41 of Set 6 : snezhnogorsk\n",
      "Processing Record 42 of Set 6 : mao\n",
      "Processing Record 43 of Set 6 : hammerfest\n",
      "Processing Record 44 of Set 6 : straumen\n",
      "Processing Record 45 of Set 6 : sosnovo-ozerskoye\n",
      "Processing Record 46 of Set 6 : codajas\n",
      "Processing Record 47 of Set 6 : amahai\n",
      "City not found. Skipping...\n",
      "Processing Record 48 of Set 6 : namatanai\n",
      "Processing Record 49 of Set 6 : san juan bautista\n",
      "Processing Record 50 of Set 6 : khandbari\n",
      "Processing Record 0 of Set 7 : rio grande\n",
      "Processing Record 1 of Set 7 : petropavlovka\n",
      "City not found. Skipping...\n",
      "Processing Record 2 of Set 7 : ginda\n",
      "Processing Record 3 of Set 7 : bethalto\n",
      "Processing Record 4 of Set 7 : mountain home\n",
      "Processing Record 5 of Set 7 : kenai\n",
      "Processing Record 6 of Set 7 : comodoro rivadavia\n",
      "Processing Record 7 of Set 7 : paciran\n",
      "Processing Record 8 of Set 7 : mansa\n",
      "Processing Record 9 of Set 7 : locri\n",
      "Processing Record 10 of Set 7 : viloco\n",
      "Processing Record 11 of Set 7 : urumqi\n",
      "Processing Record 12 of Set 7 : bunia\n",
      "Processing Record 13 of Set 7 : soligalich\n",
      "Processing Record 14 of Set 7 : caconda\n",
      "City not found. Skipping...\n",
      "Processing Record 15 of Set 7 : bengkulu\n",
      "Processing Record 16 of Set 7 : glenwood springs\n",
      "Processing Record 17 of Set 7 : ossora\n",
      "Processing Record 18 of Set 7 : sinnamary\n",
      "Processing Record 19 of Set 7 : san cristobal\n",
      "City not found. Skipping...\n",
      "Processing Record 20 of Set 7 : palmer\n",
      "Processing Record 21 of Set 7 : savalou\n",
      "Processing Record 22 of Set 7 : ambulu\n",
      "City not found. Skipping...\n",
      "Processing Record 23 of Set 7 : tevriz\n",
      "Processing Record 24 of Set 7 : lae\n",
      "Processing Record 25 of Set 7 : pitimbu\n",
      "Processing Record 26 of Set 7 : moerai\n",
      "Processing Record 27 of Set 7 : vila\n",
      "Processing Record 28 of Set 7 : lethem\n",
      "Processing Record 29 of Set 7 : huayang\n",
      "City not found. Skipping...\n",
      "Processing Record 30 of Set 7 : merrill\n",
      "Processing Record 31 of Set 7 : kafue\n",
      "Processing Record 32 of Set 7 : banjar\n",
      "Processing Record 33 of Set 7 : concepcion\n",
      "Processing Record 34 of Set 7 : antsohihy\n",
      "Processing Record 35 of Set 7 : roebourne\n",
      "Processing Record 36 of Set 7 : talnakh\n",
      "Processing Record 37 of Set 7 : cockburn town\n",
      "Processing Record 38 of Set 7 : pingdingshan\n",
      "Processing Record 39 of Set 7 : kitui\n",
      "Processing Record 40 of Set 7 : tautira\n",
      "Processing Record 41 of Set 7 : rafsanjan\n",
      "Processing Record 42 of Set 7 : sao paulo de olivenca\n",
      "Processing Record 43 of Set 7 : shimabara\n",
      "Processing Record 44 of Set 7 : teya\n",
      "Processing Record 45 of Set 7 : nishihara\n",
      "Processing Record 46 of Set 7 : zhuhai\n",
      "Processing Record 47 of Set 7 : providencia\n",
      "Processing Record 48 of Set 7 : rajshahi\n",
      "Processing Record 49 of Set 7 : lat yao\n",
      "Processing Record 50 of Set 7 : soyo\n",
      "Processing Record 0 of Set 8 : lavrentiya\n",
      "Processing Record 1 of Set 8 : nyurba\n",
      "Processing Record 2 of Set 8 : sri aman\n",
      "Processing Record 3 of Set 8 : sampit\n",
      "Processing Record 4 of Set 8 : treinta y tres\n",
      "Processing Record 5 of Set 8 : sistranda\n",
      "Processing Record 6 of Set 8 : acapulco\n",
      "Processing Record 7 of Set 8 : zhezkazgan\n",
      "Processing Record 8 of Set 8 : havoysund\n",
      "Processing Record 9 of Set 8 : la ronge\n",
      "Processing Record 10 of Set 8 : shklo\n",
      "Processing Record 11 of Set 8 : cukai\n",
      "Processing Record 12 of Set 8 : vila franca do campo\n",
      "Processing Record 13 of Set 8 : gonen\n"
     ]
    },
    {
     "name": "stdout",
     "output_type": "stream",
     "text": [
      "Processing Record 14 of Set 8 : goderich\n",
      "Processing Record 15 of Set 8 : okhotsk\n",
      "City not found. Skipping...\n",
      "Processing Record 16 of Set 8 : college\n",
      "Processing Record 17 of Set 8 : bacum\n",
      "Processing Record 18 of Set 8 : touros\n",
      "Processing Record 19 of Set 8 : dalvik\n",
      "Processing Record 20 of Set 8 : dorado\n",
      "Processing Record 21 of Set 8 : noyabrsk\n",
      "Processing Record 22 of Set 8 : walvis bay\n",
      "City not found. Skipping...\n",
      "Processing Record 23 of Set 8 : awjilah\n",
      "Processing Record 24 of Set 8 : khani\n",
      "Processing Record 25 of Set 8 : daru\n",
      "Processing Record 26 of Set 8 : houma\n",
      "Processing Record 27 of Set 8 : udimskiy\n",
      "Processing Record 28 of Set 8 : yumen\n",
      "Processing Record 29 of Set 8 : cambridge\n",
      "Processing Record 30 of Set 8 : sjenica\n",
      "City not found. Skipping...\n",
      "Processing Record 31 of Set 8 : maldonado\n",
      "Processing Record 32 of Set 8 : gujan-mestras\n",
      "Processing Record 33 of Set 8 : waddan\n",
      "Processing Record 34 of Set 8 : madarounfa\n",
      "Processing Record 35 of Set 8 : boa vista\n",
      "Processing Record 36 of Set 8 : noumea\n",
      "Processing Record 37 of Set 8 : nador\n",
      "Processing Record 38 of Set 8 : tilichiki\n",
      "Processing Record 39 of Set 8 : muroto\n",
      "Processing Record 40 of Set 8 : santa rosa\n",
      "Processing Record 41 of Set 8 : vytegra\n",
      "Processing Record 42 of Set 8 : takoradi\n",
      "Processing Record 43 of Set 8 : menzelinsk\n",
      "Processing Record 44 of Set 8 : baruun-urt\n",
      "Processing Record 45 of Set 8 : talaya\n",
      "Processing Record 46 of Set 8 : jumla\n",
      "Processing Record 47 of Set 8 : saryagash\n",
      "Processing Record 48 of Set 8 : kuvandyk\n",
      "Processing Record 49 of Set 8 : mangan\n",
      "Processing Record 50 of Set 8 : nabire\n",
      "Processing Record 0 of Set 9 : kautokeino\n",
      "Processing Record 1 of Set 9 : sao miguel\n",
      "Processing Record 2 of Set 9 : baguanos\n",
      "Processing Record 3 of Set 9 : miri\n",
      "Processing Record 4 of Set 9 : yanji\n",
      "Processing Record 5 of Set 9 : nouadhibou\n",
      "Processing Record 6 of Set 9 : karakol\n",
      "Processing Record 7 of Set 9 : raudeberg\n",
      "Processing Record 8 of Set 9 : willowmore\n",
      "Processing Record 9 of Set 9 : east retford\n",
      "Processing Record 10 of Set 9 : pachperwa\n",
      "Processing Record 11 of Set 9 : halifax\n",
      "Processing Record 12 of Set 9 : otradnoye\n",
      "Processing Record 13 of Set 9 : mayo\n",
      "Processing Record 14 of Set 9 : pemangkat\n",
      "Processing Record 15 of Set 9 : ponta delgada\n",
      "Processing Record 16 of Set 9 : mazatan\n",
      "Processing Record 17 of Set 9 : neropolis\n",
      "Processing Record 18 of Set 9 : coahuayana\n",
      "Processing Record 19 of Set 9 : les cayes\n",
      "Processing Record 20 of Set 9 : wanxian\n",
      "Processing Record 21 of Set 9 : sunel\n",
      "Processing Record 22 of Set 9 : caraballeda\n",
      "Processing Record 23 of Set 9 : naze\n",
      "Processing Record 24 of Set 9 : manadhoo\n",
      "Processing Record 25 of Set 9 : shubarkuduk\n",
      "Processing Record 26 of Set 9 : rajgarh\n",
      "Processing Record 27 of Set 9 : itarema\n",
      "Processing Record 28 of Set 9 : moose factory\n",
      "City not found. Skipping...\n",
      "Processing Record 29 of Set 9 : acajutla\n",
      "Processing Record 30 of Set 9 : mangaldai\n",
      "Processing Record 31 of Set 9 : hamilton\n",
      "Processing Record 32 of Set 9 : ndele\n",
      "Processing Record 33 of Set 9 : ewa beach\n",
      "Processing Record 34 of Set 9 : makhinjauri\n",
      "Processing Record 35 of Set 9 : ampanihy\n",
      "Processing Record 36 of Set 9 : acarau\n",
      "Processing Record 37 of Set 9 : awbari\n",
      "Processing Record 38 of Set 9 : beni mazar\n",
      "Processing Record 39 of Set 9 : grindavik\n",
      "Processing Record 40 of Set 9 : port-gentil\n",
      "Processing Record 41 of Set 9 : abeche\n",
      "Processing Record 42 of Set 9 : saint-joseph\n",
      "Processing Record 43 of Set 9 : hit\n",
      "City not found. Skipping...\n",
      "Processing Record 44 of Set 9 : maarianhamina\n",
      "Processing Record 45 of Set 9 : bossangoa\n",
      "City not found. Skipping...\n",
      "Processing Record 46 of Set 9 : khorinsk\n",
      "Processing Record 47 of Set 9 : husavik\n",
      "Processing Record 48 of Set 9 : vaitape\n",
      "Processing Record 49 of Set 9 : antofagasta\n",
      "Processing Record 50 of Set 9 : sarkikaraagac\n",
      "Processing Record 0 of Set 10 : kahului\n",
      "Processing Record 1 of Set 10 : luzhou\n",
      "Processing Record 2 of Set 10 : khorixas\n",
      "Processing Record 3 of Set 10 : anadyr\n",
      "Processing Record 4 of Set 10 : alamogordo\n",
      "Processing Record 5 of Set 10 : nanortalik\n",
      "Processing Record 6 of Set 10 : cracow\n",
      "Processing Record 7 of Set 10 : betera\n",
      "Processing Record 8 of Set 10 : agadez\n",
      "Processing Record 9 of Set 10 : petropavlovsk-kamchatskiy\n",
      "Processing Record 10 of Set 10 : jinchang\n",
      "Processing Record 11 of Set 10 : faya\n",
      "Processing Record 12 of Set 10 : haines junction\n",
      "Processing Record 13 of Set 10 : lekoni\n",
      "Processing Record 14 of Set 10 : tatvan\n",
      "City not found. Skipping...\n",
      "Processing Record 15 of Set 10 : anqing\n",
      "Processing Record 16 of Set 10 : ngunguru\n",
      "Processing Record 17 of Set 10 : basco\n",
      "Processing Record 18 of Set 10 : kapoeta\n",
      "Processing Record 19 of Set 10 : harper\n",
      "Processing Record 20 of Set 10 : kstovo\n",
      "Processing Record 21 of Set 10 : labuhan\n",
      "Processing Record 22 of Set 10 : marsh harbour\n",
      "Processing Record 23 of Set 10 : morehead\n",
      "Processing Record 24 of Set 10 : sambava\n",
      "Processing Record 25 of Set 10 : balad\n",
      "Processing Record 26 of Set 10 : aliwal north\n",
      "Processing Record 27 of Set 10 : onega\n",
      "Processing Record 28 of Set 10 : urengoy\n",
      "Processing Record 29 of Set 10 : bilibino\n",
      "Processing Record 30 of Set 10 : shizunai\n",
      "Processing Record 31 of Set 10 : qaqortoq\n",
      "Processing Record 32 of Set 10 : morant bay\n",
      "Processing Record 33 of Set 10 : sosua\n",
      "Processing Record 34 of Set 10 : benjamin constant\n",
      "Processing Record 35 of Set 10 : urcos\n",
      "Processing Record 36 of Set 10 : arona\n",
      "Processing Record 37 of Set 10 : messina\n",
      "Processing Record 38 of Set 10 : phan thiet\n",
      "Processing Record 39 of Set 10 : vardo\n",
      "Processing Record 40 of Set 10 : maneadero\n",
      "City not found. Skipping...\n",
      "Processing Record 41 of Set 10 : pareora\n",
      "Processing Record 42 of Set 10 : meulaboh\n",
      "Processing Record 43 of Set 10 : kalmar\n",
      "City not found. Skipping...\n",
      "Processing Record 44 of Set 10 : yingkou\n",
      "Processing Record 45 of Set 10 : gazojak\n",
      "Processing Record 46 of Set 10 : hasaki\n",
      "Processing Record 47 of Set 10 : omsukchan\n",
      "Processing Record 48 of Set 10 : thinadhoo\n",
      "City not found. Skipping...\n",
      "Processing Record 49 of Set 10 : bonthe\n",
      "Processing Record 50 of Set 10 : sur\n",
      "City not found. Skipping...\n",
      "Processing Record 0 of Set 11 : merritt island\n",
      "Processing Record 1 of Set 11 : kemin\n",
      "Processing Record 2 of Set 11 : north bend\n",
      "Processing Record 3 of Set 11 : zhanakorgan\n",
      "Processing Record 4 of Set 11 : mizdah\n",
      "Processing Record 5 of Set 11 : san carlos de bariloche\n",
      "Processing Record 6 of Set 11 : baykit\n",
      "Processing Record 7 of Set 11 : vao\n",
      "City not found. Skipping...\n",
      "Processing Record 8 of Set 11 : wanning\n",
      "Processing Record 9 of Set 11 : maceio\n",
      "Processing Record 10 of Set 11 : nome\n",
      "Processing Record 11 of Set 11 : antalaha\n",
      "Processing Record 12 of Set 11 : marienburg\n",
      "City not found. Skipping...\n",
      "Processing Record 13 of Set 11 : sioux lookout\n",
      "Processing Record 14 of Set 11 : cua\n",
      "Processing Record 15 of Set 11 : ahipara\n",
      "City not found. Skipping...\n",
      "Processing Record 16 of Set 11 : xam nua\n",
      "Processing Record 17 of Set 11 : vestmannaeyjar\n",
      "Processing Record 18 of Set 11 : duldurga\n",
      "Processing Record 19 of Set 11 : praya\n",
      "Processing Record 20 of Set 11 : haren\n",
      "Processing Record 21 of Set 11 : lasa\n",
      "Processing Record 22 of Set 11 : davila\n",
      "Processing Record 23 of Set 11 : fasa\n",
      "Processing Record 24 of Set 11 : emba\n",
      "Processing Record 25 of Set 11 : toba\n",
      "Processing Record 26 of Set 11 : namibe\n",
      "Processing Record 27 of Set 11 : beringovskiy\n",
      "Processing Record 28 of Set 11 : sile\n",
      "Processing Record 29 of Set 11 : suntar\n",
      "City not found. Skipping...\n",
      "Processing Record 30 of Set 11 : dosso\n",
      "Processing Record 31 of Set 11 : muros\n",
      "-----------------------------\n",
      "Data Retrieval Complete\n",
      "-----------------------------\n"
     ]
    }
   ],
   "source": [
    "print(\"Beginning Data Retrieval \")\n",
    "print(\"-----------------------------\")\n",
    "\n",
    "base_url = \"http://api.openweathermap.org/data/2.5/weather?\"\n",
    "units = \"imperial\"\n",
    "query_url = f\"{base_url}appid={weather_api_key}&units={units}&q=\"\n",
    "\n",
    "\n",
    "# For each city name in cities list, do below things...\n",
    "for index, city in enumerate(cities, start = 1):\n",
    "    try:\n",
    "        response = requests.get(query_url + city).json()\n",
    "        city_name_list.append(response[\"name\"])\n",
    "        cloudiness_list.append(response[\"clouds\"][\"all\"])\n",
    "        country_list.append(response[\"sys\"][\"country\"])\n",
    "        date_list.append(response[\"dt\"])\n",
    "        humidity_list.append(response[\"main\"][\"humidity\"])\n",
    "        lat_list.append(response[\"coord\"][\"lat\"])\n",
    "        lng_list.append(response[\"coord\"][\"lon\"])\n",
    "        max_temp_list.append(response['main']['temp_max'])\n",
    "        wind_speed_list.append(response[\"wind\"][\"speed\"])\n",
    "        if index_counter > 49:\n",
    "            index_counter = 0\n",
    "            set_counter = set_counter + 1\n",
    "    \n",
    "        else:\n",
    "            index_counter = index_counter + 1\n",
    "            \n",
    "        print(f\"Processing Record {index_counter} of Set {set_counter} : {city}\") \n",
    "  \n",
    "    except(KeyError, IndexError):\n",
    "        print(\"City not found. Skipping...\")\n",
    "\n",
    "print(\"-----------------------------\")\n",
    "print(\"Data Retrieval Complete\")\n",
    "print(\"-----------------------------\")"
   ]
  },
  {
   "cell_type": "markdown",
   "metadata": {},
   "source": [
    "### Convert Raw Data to DataFrame\n",
    "* Export the city data into a .csv.\n",
    "* Display the DataFrame"
   ]
  },
  {
   "cell_type": "code",
   "execution_count": 6,
   "metadata": {},
   "outputs": [],
   "source": [
    "# Create a panda data frame using data retrieved\n",
    "weather_data = pd.DataFrame({ \n",
    "                \"City\" : city_name_list,\n",
    "                \"Cloudiness\" : cloudiness_list,\n",
    "                \"Country\" : country_list,\n",
    "                \"Date\" : date_list,\n",
    "                \"Humidity\" : humidity_list,\n",
    "                \"Lat\" : lat_list,\n",
    "                \"Lng\" : lng_list,\n",
    "                \"Max Temp\" : max_temp_list,\n",
    "                \"Wind Speed\" : wind_speed_list\n",
    "})"
   ]
  },
  {
   "cell_type": "code",
   "execution_count": 7,
   "metadata": {},
   "outputs": [
    {
     "data": {
      "text/plain": [
       "City          541\n",
       "Cloudiness    541\n",
       "Country       541\n",
       "Date          541\n",
       "Humidity      541\n",
       "Lat           541\n",
       "Lng           541\n",
       "Max Temp      541\n",
       "Wind Speed    541\n",
       "dtype: int64"
      ]
     },
     "execution_count": 7,
     "metadata": {},
     "output_type": "execute_result"
    }
   ],
   "source": [
    "# Count data\n",
    "weather_data.count()"
   ]
  },
  {
   "cell_type": "code",
   "execution_count": 8,
   "metadata": {
    "scrolled": true
   },
   "outputs": [
    {
     "data": {
      "text/html": [
       "<div>\n",
       "<style scoped>\n",
       "    .dataframe tbody tr th:only-of-type {\n",
       "        vertical-align: middle;\n",
       "    }\n",
       "\n",
       "    .dataframe tbody tr th {\n",
       "        vertical-align: top;\n",
       "    }\n",
       "\n",
       "    .dataframe thead th {\n",
       "        text-align: right;\n",
       "    }\n",
       "</style>\n",
       "<table border=\"1\" class=\"dataframe\">\n",
       "  <thead>\n",
       "    <tr style=\"text-align: right;\">\n",
       "      <th></th>\n",
       "      <th>City</th>\n",
       "      <th>Cloudiness</th>\n",
       "      <th>Country</th>\n",
       "      <th>Date</th>\n",
       "      <th>Humidity</th>\n",
       "      <th>Lat</th>\n",
       "      <th>Lng</th>\n",
       "      <th>Max Temp</th>\n",
       "      <th>Wind Speed</th>\n",
       "    </tr>\n",
       "  </thead>\n",
       "  <tbody>\n",
       "    <tr>\n",
       "      <th>0</th>\n",
       "      <td>Busselton</td>\n",
       "      <td>9</td>\n",
       "      <td>AU</td>\n",
       "      <td>1603329641</td>\n",
       "      <td>66</td>\n",
       "      <td>-33.65</td>\n",
       "      <td>115.33</td>\n",
       "      <td>60.01</td>\n",
       "      <td>3.00</td>\n",
       "    </tr>\n",
       "    <tr>\n",
       "      <th>1</th>\n",
       "      <td>Upernavik</td>\n",
       "      <td>62</td>\n",
       "      <td>GL</td>\n",
       "      <td>1603329641</td>\n",
       "      <td>95</td>\n",
       "      <td>72.79</td>\n",
       "      <td>-56.15</td>\n",
       "      <td>23.99</td>\n",
       "      <td>4.34</td>\n",
       "    </tr>\n",
       "    <tr>\n",
       "      <th>2</th>\n",
       "      <td>Plumlov</td>\n",
       "      <td>0</td>\n",
       "      <td>CZ</td>\n",
       "      <td>1603329642</td>\n",
       "      <td>93</td>\n",
       "      <td>49.47</td>\n",
       "      <td>17.02</td>\n",
       "      <td>44.60</td>\n",
       "      <td>3.36</td>\n",
       "    </tr>\n",
       "    <tr>\n",
       "      <th>3</th>\n",
       "      <td>Mataura</td>\n",
       "      <td>86</td>\n",
       "      <td>NZ</td>\n",
       "      <td>1603329642</td>\n",
       "      <td>49</td>\n",
       "      <td>-46.19</td>\n",
       "      <td>168.86</td>\n",
       "      <td>66.00</td>\n",
       "      <td>5.01</td>\n",
       "    </tr>\n",
       "    <tr>\n",
       "      <th>4</th>\n",
       "      <td>Kruisfontein</td>\n",
       "      <td>0</td>\n",
       "      <td>ZA</td>\n",
       "      <td>1603329642</td>\n",
       "      <td>67</td>\n",
       "      <td>-34.00</td>\n",
       "      <td>24.73</td>\n",
       "      <td>55.22</td>\n",
       "      <td>5.84</td>\n",
       "    </tr>\n",
       "    <tr>\n",
       "      <th>...</th>\n",
       "      <td>...</td>\n",
       "      <td>...</td>\n",
       "      <td>...</td>\n",
       "      <td>...</td>\n",
       "      <td>...</td>\n",
       "      <td>...</td>\n",
       "      <td>...</td>\n",
       "      <td>...</td>\n",
       "      <td>...</td>\n",
       "    </tr>\n",
       "    <tr>\n",
       "      <th>536</th>\n",
       "      <td>Beringovskiy</td>\n",
       "      <td>86</td>\n",
       "      <td>RU</td>\n",
       "      <td>1603329807</td>\n",
       "      <td>77</td>\n",
       "      <td>63.05</td>\n",
       "      <td>179.32</td>\n",
       "      <td>41.23</td>\n",
       "      <td>7.00</td>\n",
       "    </tr>\n",
       "    <tr>\n",
       "      <th>537</th>\n",
       "      <td>Şile</td>\n",
       "      <td>87</td>\n",
       "      <td>TR</td>\n",
       "      <td>1603329807</td>\n",
       "      <td>87</td>\n",
       "      <td>41.18</td>\n",
       "      <td>29.61</td>\n",
       "      <td>60.80</td>\n",
       "      <td>4.70</td>\n",
       "    </tr>\n",
       "    <tr>\n",
       "      <th>538</th>\n",
       "      <td>Suntar</td>\n",
       "      <td>0</td>\n",
       "      <td>RU</td>\n",
       "      <td>1603329807</td>\n",
       "      <td>94</td>\n",
       "      <td>62.14</td>\n",
       "      <td>117.63</td>\n",
       "      <td>15.78</td>\n",
       "      <td>3.94</td>\n",
       "    </tr>\n",
       "    <tr>\n",
       "      <th>539</th>\n",
       "      <td>Dosso</td>\n",
       "      <td>0</td>\n",
       "      <td>NE</td>\n",
       "      <td>1603329743</td>\n",
       "      <td>34</td>\n",
       "      <td>13.05</td>\n",
       "      <td>3.19</td>\n",
       "      <td>82.85</td>\n",
       "      <td>6.40</td>\n",
       "    </tr>\n",
       "    <tr>\n",
       "      <th>540</th>\n",
       "      <td>Muros</td>\n",
       "      <td>32</td>\n",
       "      <td>ES</td>\n",
       "      <td>1603329808</td>\n",
       "      <td>87</td>\n",
       "      <td>42.78</td>\n",
       "      <td>-9.06</td>\n",
       "      <td>59.00</td>\n",
       "      <td>13.00</td>\n",
       "    </tr>\n",
       "  </tbody>\n",
       "</table>\n",
       "<p>541 rows × 9 columns</p>\n",
       "</div>"
      ],
      "text/plain": [
       "             City  Cloudiness Country        Date  Humidity    Lat     Lng  \\\n",
       "0       Busselton           9      AU  1603329641        66 -33.65  115.33   \n",
       "1       Upernavik          62      GL  1603329641        95  72.79  -56.15   \n",
       "2         Plumlov           0      CZ  1603329642        93  49.47   17.02   \n",
       "3         Mataura          86      NZ  1603329642        49 -46.19  168.86   \n",
       "4    Kruisfontein           0      ZA  1603329642        67 -34.00   24.73   \n",
       "..            ...         ...     ...         ...       ...    ...     ...   \n",
       "536  Beringovskiy          86      RU  1603329807        77  63.05  179.32   \n",
       "537          Şile          87      TR  1603329807        87  41.18   29.61   \n",
       "538        Suntar           0      RU  1603329807        94  62.14  117.63   \n",
       "539         Dosso           0      NE  1603329743        34  13.05    3.19   \n",
       "540         Muros          32      ES  1603329808        87  42.78   -9.06   \n",
       "\n",
       "     Max Temp  Wind Speed  \n",
       "0       60.01        3.00  \n",
       "1       23.99        4.34  \n",
       "2       44.60        3.36  \n",
       "3       66.00        5.01  \n",
       "4       55.22        5.84  \n",
       "..        ...         ...  \n",
       "536     41.23        7.00  \n",
       "537     60.80        4.70  \n",
       "538     15.78        3.94  \n",
       "539     82.85        6.40  \n",
       "540     59.00       13.00  \n",
       "\n",
       "[541 rows x 9 columns]"
      ]
     },
     "execution_count": 8,
     "metadata": {},
     "output_type": "execute_result"
    }
   ],
   "source": [
    "# Display the Data Frame\n",
    "weather_data"
   ]
  },
  {
   "cell_type": "code",
   "execution_count": 9,
   "metadata": {},
   "outputs": [],
   "source": [
    "# Save city data into a csv file\n",
    "weather_data.to_csv(\"../output_data/cities.csv\", index = False)"
   ]
  },
  {
   "cell_type": "markdown",
   "metadata": {},
   "source": [
    "## Inspect the data and remove the cities where the humidity > 100%.\n",
    "----\n",
    "Skip this step if there are no cities that have humidity > 100%. "
   ]
  },
  {
   "cell_type": "code",
   "execution_count": null,
   "metadata": {},
   "outputs": [],
   "source": []
  },
  {
   "cell_type": "code",
   "execution_count": 10,
   "metadata": {},
   "outputs": [],
   "source": [
    "#  Get the indices of cities that have humidity over 100%.\n"
   ]
  },
  {
   "cell_type": "code",
   "execution_count": 11,
   "metadata": {},
   "outputs": [],
   "source": [
    "# Make a new DataFrame equal to the city data to drop all humidity outliers by index.\n",
    "# Passing \"inplace=False\" will make a copy of the city_data DataFrame, which we call \"clean_city_data\".\n"
   ]
  },
  {
   "cell_type": "code",
   "execution_count": null,
   "metadata": {},
   "outputs": [],
   "source": [
    "\n"
   ]
  },
  {
   "cell_type": "markdown",
   "metadata": {},
   "source": [
    "## Plotting the Data\n",
    "* Use proper labeling of the plots using plot titles (including date of analysis) and axes labels.\n",
    "* Save the plotted figures as .pngs."
   ]
  },
  {
   "cell_type": "markdown",
   "metadata": {},
   "source": [
    "## Latitude vs. Temperature Plot"
   ]
  },
  {
   "cell_type": "code",
   "execution_count": 12,
   "metadata": {
    "scrolled": true
   },
   "outputs": [
    {
     "data": {
      "image/png": "[encoded data removed]",
      "text/plain": [
       "<Figure size 432x288 with 1 Axes>"
      ]
     },
     "metadata": {
      "needs_background": "light"
     },
     "output_type": "display_data"
    }
   ],
   "source": [
    "# Create Latitude vs. Temperature Plot scatter plot\n",
    "plt.scatter(weather_data[\"Lat\"], weather_data[\"Max Temp\"], facecolor = \"blue\", edgecolor = \"black\")\n",
    "\n",
    "# Set title\n",
    "plt.title(\"City Latitude vs. Max Temperature (10/20/20)\")\n",
    "\n",
    "# Set x axis label\n",
    "plt.xlabel(\"Laitude\")\n",
    "\n",
    "# Set y axis label\n",
    "plt.ylabel(\"Max Temperature (F)\")\n",
    "\n",
    "# Set grid line\n",
    "plt.grid(linestyle='-', linewidth=1, alpha = 0.5)\n",
    "\n",
    "# Save the plotted figure as .pngs\n",
    "plt.savefig(\"../Images/City Latitude vs Max Temperature.png\")"
   ]
  },
  {
   "cell_type": "markdown",
   "metadata": {},
   "source": [
    "* The code shows that the farther right or postive you are in lattitude the lower your max temp is "
   ]
  },
  {
   "cell_type": "markdown",
   "metadata": {},
   "source": [
    "## Latitude vs. Humidity Plot"
   ]
  },
  {
   "cell_type": "code",
   "execution_count": 33,
   "metadata": {},
   "outputs": [
    {
     "data": {
      "image/png": "[encoded data removed]",
      "text/plain": [
       "<Figure size 432x288 with 1 Axes>"
      ]
     },
     "metadata": {
      "needs_background": "light"
     },
     "output_type": "display_data"
    }
   ],
   "source": [
    "# Create Latitude vs. Temperature Plot scatter plot\n",
    "plt.scatter(weather_data[\"Lat\"], weather_data[\"Humidity\"], facecolor = \"blue\", edgecolor = \"black\")\n",
    "\n",
    "# Set title\n",
    "plt.title(\"City Latitude vs. Humidity (10/20/20)\")\n",
    "\n",
    "# Set x axis label\n",
    "plt.xlabel(\"Laitude\")\n",
    "\n",
    "# Set y axis label\n",
    "plt.ylabel(\"Humidity\")\n",
    "\n",
    "# Set grid line\n",
    "plt.grid(linestyle='-', linewidth=1, alpha = 0.5)\n",
    "\n",
    "# Save the plotted figure as .pngs\n",
    "plt.savefig(\"../Images/City Latitude vs Max Temperature.png\")"
   ]
  },
  {
   "cell_type": "markdown",
   "metadata": {},
   "source": [
    "* Code shows that humidiy is irrelevant when it comes to latitude as it is spread out equally"
   ]
  },
  {
   "cell_type": "markdown",
   "metadata": {},
   "source": [
    "## Latitude vs. Cloudiness Plot"
   ]
  },
  {
   "cell_type": "code",
   "execution_count": 34,
   "metadata": {},
   "outputs": [
    {
     "data": {
      "image/png": "[encoded data removed]",
      "text/plain": [
       "<Figure size 432x288 with 1 Axes>"
      ]
     },
     "metadata": {
      "needs_background": "light"
     },
     "output_type": "display_data"
    }
   ],
   "source": [
    "# Create Latitude vs. Temperature Plot scatter plot\n",
    "plt.scatter(weather_data[\"Lat\"], weather_data[\"Cloudiness\"], facecolor = \"blue\", edgecolor = \"black\")\n",
    "\n",
    "# Set title\n",
    "plt.title(\"City Latitude vs. Cloudiness (10/20/20)\")\n",
    "\n",
    "# Set x axis label\n",
    "plt.xlabel(\"Laitude\")\n",
    "\n",
    "# Set y axis label\n",
    "plt.ylabel(\"Cloudiness\")\n",
    "\n",
    "# Set grid line\n",
    "plt.grid(linestyle='-', linewidth=1, alpha = 0.5)\n",
    "\n",
    "# Save the plotted figure as .pngs\n",
    "plt.savefig(\"../Images/City Latitude vs Max Temperature.png\")"
   ]
  },
  {
   "cell_type": "markdown",
   "metadata": {},
   "source": [
    "* Code shows that Cloudiness is spread out equally throughout diffrenet points in the lattitude location"
   ]
  },
  {
   "cell_type": "markdown",
   "metadata": {},
   "source": [
    "## Latitude vs. Wind Speed Plot"
   ]
  },
  {
   "cell_type": "code",
   "execution_count": 35,
   "metadata": {},
   "outputs": [
    {
     "data": {
      "image/png": "[encoded data removed]",
      "text/plain": [
       "<Figure size 432x288 with 1 Axes>"
      ]
     },
     "metadata": {
      "needs_background": "light"
     },
     "output_type": "display_data"
    }
   ],
   "source": [
    "# Create Latitude vs. Temperature Plot scatter plot\n",
    "plt.scatter(weather_data[\"Lat\"], weather_data[\"Wind Speed\"], facecolor = \"blue\", edgecolor = \"black\")\n",
    "\n",
    "# Set title\n",
    "plt.title(\"City Latitude vs. Wind Speed (10/20/20)\")\n",
    "\n",
    "# Set x axis label\n",
    "plt.xlabel(\"Laitude\")\n",
    "\n",
    "# Set y axis label\n",
    "plt.ylabel(\"Wind Speed\")\n",
    "\n",
    "# Set grid line\n",
    "plt.grid(linestyle='-', linewidth=1, alpha = 0.5)\n",
    "\n",
    "# Save the plotted figure as .pngs\n",
    "plt.savefig(\"../Images/City Latitude vs Max Temperature.png\")"
   ]
  },
  {
   "cell_type": "markdown",
   "metadata": {},
   "source": [
    "* Code shows the farther right in latitude you are, the more likely you are to have wind"
   ]
  },
  {
   "cell_type": "markdown",
   "metadata": {},
   "source": [
    "## Linear Regression"
   ]
  },
  {
   "cell_type": "code",
   "execution_count": 16,
   "metadata": {},
   "outputs": [],
   "source": [
    "# Create Northern and Southern Hemisphere DataFrames\n",
    "northern_hemisphere = weather_data.loc[weather_data[\"Lat\"] >= 0]\n",
    "southern_hemisphere = weather_data.loc[weather_data[\"Lat\"] < 0]"
   ]
  },
  {
   "cell_type": "code",
   "execution_count": 17,
   "metadata": {},
   "outputs": [],
   "source": [
    "# Define function for creating linear regression and scatter plot\n",
    "def linear_regression(x,y):\n",
    "    print(f\"The r-squared is : {round(st.pearsonr(x, y)[0],2)}\")\n",
    "    (slope, intercept, rvalue, pvalue, stderr) = linregress(x, y)\n",
    "    regress_values = x * slope + intercept\n",
    "    line_eq = \"y = \" + str(round(slope,2)) + \"x + \" + str(round(intercept,2))\n",
    "    plt.scatter(x, y)\n",
    "    plt.plot(x,regress_values,\"r-\")\n",
    "    return line_eq\n",
    "\n",
    "# Define a fuction for annotating\n",
    "def annotate(line_eq, a, b):\n",
    "    plt.annotate(line_eq,(a,b),fontsize=15,color=\"red\")"
   ]
  },
  {
   "cell_type": "markdown",
   "metadata": {},
   "source": [
    "####  Northern Hemisphere - Max Temp vs. Latitude Linear Regression"
   ]
  },
  {
   "cell_type": "code",
   "execution_count": 18,
   "metadata": {},
   "outputs": [
    {
     "name": "stdout",
     "output_type": "stream",
     "text": [
      "The r-squared is : -0.88\n"
     ]
    },
    {
     "data": {
      "image/png": "[encoded data removed]",
      "text/plain": [
       "<Figure size 432x288 with 1 Axes>"
      ]
     },
     "metadata": {
      "needs_background": "light"
     },
     "output_type": "display_data"
    }
   ],
   "source": [
    "# Call an function #1\n",
    "equation = linear_regression(northern_hemisphere[\"Lat\"], northern_hemisphere[\"Max Temp\"])\n",
    "\n",
    "# Call an function #2\n",
    "annotate(equation, 0, 0)\n",
    "\n",
    "# Set a title\n",
    "plt.title(\"Northern Hemisphere - Max Temp vs. Latitude Linear Regression\")\n",
    "\n",
    "# Set xlabel\n",
    "plt.xlabel(\"Latitude\")\n",
    "\n",
    "# Set ylabel\n",
    "plt.ylabel(\"Max Temp (F)\")\n",
    "\n",
    "# Save the figure\n",
    "plt.savefig(\"../Images/Northern Hemisphere - Max Temp vs. Latitude Linear Regression.png\")"
   ]
  },
  {
   "cell_type": "markdown",
   "metadata": {},
   "source": [
    "* Graphs shows that there is a negative correaltoin between max temp and lattitude for the Northern Hempisphere"
   ]
  },
  {
   "cell_type": "markdown",
   "metadata": {},
   "source": [
    "####  Southern Hemisphere - Max Temp vs. Latitude Linear Regression"
   ]
  },
  {
   "cell_type": "code",
   "execution_count": 19,
   "metadata": {},
   "outputs": [
    {
     "name": "stdout",
     "output_type": "stream",
     "text": [
      "The r-squared is : 0.66\n"
     ]
    },
    {
     "data": {
      "image/png": "[encoded data removed]",
      "text/plain": [
       "<Figure size 432x288 with 1 Axes>"
      ]
     },
     "metadata": {
      "needs_background": "light"
     },
     "output_type": "display_data"
    }
   ],
   "source": [
    "# Call an function #1\n",
    "equation = linear_regression(southern_hemisphere[\"Lat\"],southern_hemisphere[\"Max Temp\"])\n",
    "\n",
    "# Call an function #2\n",
    "annotate(equation, -30, 50)\n",
    "\n",
    "# Set a title\n",
    "plt.title(\"Southern Hemisphere - Max Temp vs. Latitude Linear Regression\")\n",
    "\n",
    "# Set xlabel\n",
    "plt.xlabel(\"Latitude\")\n",
    "\n",
    "# Set ylabel\n",
    "plt.ylabel(\"Max Temp (F)\")\n",
    "\n",
    "# Save the figure\n",
    "plt.savefig(\"../Images/Southern Hemisphere - Max Temp vs. Latitude Linear Regression.png\")"
   ]
  },
  {
   "cell_type": "markdown",
   "metadata": {},
   "source": [
    "* Southern Hempisphere has a postive correalation between lattitute and max temp as you move closer to 0"
   ]
  },
  {
   "cell_type": "markdown",
   "metadata": {},
   "source": [
    "####  Northern Hemisphere - Humidity (%) vs. Latitude Linear Regression"
   ]
  },
  {
   "cell_type": "code",
   "execution_count": 20,
   "metadata": {},
   "outputs": [
    {
     "name": "stdout",
     "output_type": "stream",
     "text": [
      "The r-squared is : 0.27\n"
     ]
    },
    {
     "data": {
      "image/png": "[encoded data removed]",
      "text/plain": [
       "<Figure size 432x288 with 1 Axes>"
      ]
     },
     "metadata": {
      "needs_background": "light"
     },
     "output_type": "display_data"
    }
   ],
   "source": [
    "# Call an function #1\n",
    "equation = linear_regression(northern_hemisphere[\"Lat\"], northern_hemisphere[\"Humidity\"])\n",
    "\n",
    "# Call an function #2\n",
    "annotate(equation, 40, 15)\n",
    "\n",
    "# Set a title\n",
    "plt.title(\"Northern Hemisphere - Humidity (%) vs. Latitude Linear Regression\")\n",
    "\n",
    "# Set xlabel\n",
    "plt.xlabel(\"Latitude\")\n",
    "\n",
    "# Set ylabel\n",
    "plt.ylabel(\"Humidity (%)\")\n",
    "\n",
    "# Save the figure\n",
    "plt.savefig(\"../Images/Northern Hemisphere - Humidity (%) vs. Latitude Linear Regression.png\")\n"
   ]
  },
  {
   "cell_type": "markdown",
   "metadata": {},
   "source": [
    "* Northern Hemisphere has a small postivie increase in humidity as you move away from 0"
   ]
  },
  {
   "cell_type": "markdown",
   "metadata": {},
   "source": [
    "####  Southern Hemisphere - Humidity (%) vs. Latitude Linear Regression"
   ]
  },
  {
   "cell_type": "code",
   "execution_count": 21,
   "metadata": {},
   "outputs": [
    {
     "name": "stdout",
     "output_type": "stream",
     "text": [
      "The r-squared is : 0.23\n"
     ]
    },
    {
     "data": {
      "image/png": "[encoded data removed]",
      "text/plain": [
       "<Figure size 432x288 with 1 Axes>"
      ]
     },
     "metadata": {
      "needs_background": "light"
     },
     "output_type": "display_data"
    }
   ],
   "source": [
    "# Call an function #1\n",
    "equation = linear_regression(southern_hemisphere[\"Lat\"], southern_hemisphere[\"Humidity\"])\n",
    "\n",
    "# Call an function #2\n",
    "annotate(equation, -40, 50)\n",
    "\n",
    "# Set title\n",
    "plt.title(\"Southern Hemisphere - Humidity (%) vs. Latitude Linear Regression\")\n",
    "\n",
    "# Set xlabel\n",
    "plt.xlabel(\"Latitude\")\n",
    "\n",
    "# Set ylabel\n",
    "plt.ylabel(\"Humidity (%)\")\n",
    "\n",
    "# Save the figure\n",
    "plt.savefig(\"../Images/Southern Hemisphere - Humidity (%) vs. Latitude Linear Regression.png\")"
   ]
  },
  {
   "cell_type": "markdown",
   "metadata": {},
   "source": [
    "* Southeren Hemispehere has a higher correaltation for thatn the nothern hemisphere"
   ]
  },
  {
   "cell_type": "markdown",
   "metadata": {},
   "source": [
    "* Souther Hemisphere also has a small postive correlation for humidity as you move closer to 0 lattitude"
   ]
  },
  {
   "cell_type": "markdown",
   "metadata": {},
   "source": [
    "####  Northern Hemisphere - Cloudiness (%) vs. Latitude Linear Regression"
   ]
  },
  {
   "cell_type": "code",
   "execution_count": 22,
   "metadata": {},
   "outputs": [
    {
     "name": "stdout",
     "output_type": "stream",
     "text": [
      "The r-squared is : 0.17\n"
     ]
    },
    {
     "data": {
      "image/png": "[encoded data removed]",
      "text/plain": [
       "<Figure size 432x288 with 1 Axes>"
      ]
     },
     "metadata": {
      "needs_background": "light"
     },
     "output_type": "display_data"
    }
   ],
   "source": [
    "# Call an function #1\n",
    "equation = linear_regression(northern_hemisphere[\"Lat\"], northern_hemisphere[\"Cloudiness\"])\n",
    "\n",
    "# Call an function #2\n",
    "annotate(equation, 30, 40)\n",
    "\n",
    "# Set a title\n",
    "plt.title(\"Northern Hemisphere - Cloudiness (%) vs. Latitude Linear Regression\")\n",
    "\n",
    "# Set xlabel\n",
    "plt.xlabel(\"Latitude\")\n",
    "\n",
    "# Set ylabel\n",
    "plt.ylabel(\"Cloudiness (%)\")\n",
    "\n",
    "# Save the figure\n",
    "plt.savefig(\"../Images/Northern Hemisphere - Cloudiness (%) vs. Latitude Linear Regression.png\")"
   ]
  },
  {
   "cell_type": "markdown",
   "metadata": {},
   "source": [
    "* Nothern Hemispheres has a scattered plots for cloudiness throughout"
   ]
  },
  {
   "cell_type": "markdown",
   "metadata": {},
   "source": [
    "####  Southern Hemisphere - Cloudiness (%) vs. Latitude Linear Regression"
   ]
  },
  {
   "cell_type": "code",
   "execution_count": 23,
   "metadata": {},
   "outputs": [
    {
     "name": "stdout",
     "output_type": "stream",
     "text": [
      "The r-squared is : 0.09\n"
     ]
    },
    {
     "data": {
      "image/png": "[encoded data removed]",
      "text/plain": [
       "<Figure size 432x288 with 1 Axes>"
      ]
     },
     "metadata": {
      "needs_background": "light"
     },
     "output_type": "display_data"
    }
   ],
   "source": [
    "# Call an function #1\n",
    "equation = linear_regression(southern_hemisphere[\"Lat\"], southern_hemisphere[\"Cloudiness\"])\n",
    "\n",
    "# Call an function #2\n",
    "annotate(equation, -30, 40)\n",
    "\n",
    "# Set a title\n",
    "plt.title(\"Southern Hemisphere - Cloudiness (%) vs. Latitude Linear Regression\")\n",
    "\n",
    "# Set xlabel\n",
    "plt.xlabel(\"Latitude\")\n",
    "\n",
    "# Set ylabel\n",
    "plt.ylabel(\"Cloudiness (%)\")\n",
    "\n",
    "# Save the figure\n",
    "plt.savefig(\"../Images/Southern Hemisphere - Cloudiness (%) vs. Latitude Linear Regression.png\")"
   ]
  },
  {
   "cell_type": "markdown",
   "metadata": {},
   "source": [
    "* Southern Hemisphere starts to show scattered cloudiness as you move pass the -30 lattitude cordinates"
   ]
  },
  {
   "cell_type": "markdown",
   "metadata": {},
   "source": [
    "####  Northern Hemisphere - Wind Speed (mph) vs. Latitude Linear Regression"
   ]
  },
  {
   "cell_type": "code",
   "execution_count": 24,
   "metadata": {},
   "outputs": [
    {
     "name": "stdout",
     "output_type": "stream",
     "text": [
      "The r-squared is : 0.11\n"
     ]
    },
    {
     "data": {
      "image/png": "[encoded data removed]",
      "text/plain": [
       "<Figure size 432x288 with 1 Axes>"
      ]
     },
     "metadata": {
      "needs_background": "light"
     },
     "output_type": "display_data"
    }
   ],
   "source": [
    "# Call an function #1\n",
    "equation = linear_regression(northern_hemisphere[\"Lat\"], northern_hemisphere[\"Wind Speed\"])\n",
    "\n",
    "# Call an function #2\n",
    "annotate(equation, 40, 20)\n",
    "\n",
    "# Set  title\n",
    "plt.title(\"Northern Hemisphere - Wind Speed (mph) vs. Latitude Linear Regression\")\n",
    "\n",
    "# Set xlabel\n",
    "plt.xlabel(\"Latitude\")\n",
    "\n",
    "# Set ylabel\n",
    "plt.ylabel(\"Wind Speed (mph)\")\n",
    "\n",
    "# Save the figure\n",
    "plt.savefig(\"../Images/Northern Hemisphere - Wind Speed vs. Latitude Linear Regression.png\")"
   ]
  },
  {
   "cell_type": "markdown",
   "metadata": {},
   "source": [
    "* Nothern Hemispheres has a scattered plots for windspeed throughout, all of which are equally spread out"
   ]
  },
  {
   "cell_type": "markdown",
   "metadata": {},
   "source": [
    "####  Southern Hemisphere - Wind Speed (mph) vs. Latitude Linear Regression"
   ]
  },
  {
   "cell_type": "code",
   "execution_count": 25,
   "metadata": {},
   "outputs": [
    {
     "name": "stdout",
     "output_type": "stream",
     "text": [
      "The r-squared is : -0.21\n"
     ]
    },
    {
     "data": {
      "image/png": "[encoded data removed]",
      "text/plain": [
       "<Figure size 432x288 with 1 Axes>"
      ]
     },
     "metadata": {
      "needs_background": "light"
     },
     "output_type": "display_data"
    }
   ],
   "source": [
    "# Call an function #1\n",
    "equation = linear_regression(southern_hemisphere[\"Lat\"], southern_hemisphere[\"Wind Speed\"])\n",
    "\n",
    "# Call an function #2\n",
    "annotate(equation, -30, 15)\n",
    "\n",
    "# Set  title\n",
    "plt.title(\"Southern Hemisphere - Wind Speed (mph) vs. Latitude Linear Regression\")\n",
    "\n",
    "# Set xlabel\n",
    "plt.xlabel(\"Latitude\")\n",
    "\n",
    "# Set ylabel\n",
    "plt.ylabel(\"Wind Speed (mph)\")\n",
    "\n",
    "# Save the figure\n",
    "plt.savefig(\"../Images/Southern Hemisphere - Wind Speed vs. Latitude Linear Regression.png\")"
   ]
  },
  {
   "cell_type": "markdown",
   "metadata": {},
   "source": [
    "* Southern Hemisphere starts to shows some scattered wind as you move pass lattitude with higher speeds seen at around the -35 lattitude cordinates"
   ]
  },
  {
   "cell_type": "code",
   "execution_count": null,
   "metadata": {},
   "outputs": [],
   "source": []
  }
 ],
 "metadata": {
  "anaconda-cloud": {},
  "kernel_info": {
   "name": "python3"
  },
  "kernelspec": {
   "display_name": "Python 3",
   "language": "python",
   "name": "python3"
  },
  "language_info": {
   "codemirror_mode": {
    "name": "ipython",
    "version": 3
   },
   "file_extension": ".py",
   "mimetype": "text/x-python",
   "name": "python",
   "nbconvert_exporter": "python",
   "pygments_lexer": "ipython3",
   "version": "3.8.5"
  },
  "latex_envs": {
   "LaTeX_envs_menu_present": true,
   "autoclose": false,
   "autocomplete": true,
   "bibliofile": "biblio.bib",
   "cite_by": "apalike",
   "current_citInitial": 1,
   "eqLabelWithNumbers": true,
   "eqNumInitial": 1,
   "hotkeys": {
    "equation": "Ctrl-E",
    "itemize": "Ctrl-I"
   },
   "labels_anchors": false,
   "latex_user_defs": false,
   "report_style_numbering": false,
   "user_envs_cfg": false
  },
  "nteract": {
   "version": "0.12.3"
  }
 },
 "nbformat": 4,
 "nbformat_minor": 2
}
